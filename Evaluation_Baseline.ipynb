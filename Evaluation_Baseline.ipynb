{
 "cells": [
  {
   "cell_type": "markdown",
   "metadata": {},
   "source": [
    "# Decision Tree\n"
   ]
  },
  {
   "cell_type": "markdown",
   "metadata": {},
   "source": [
    "## Try 1\n",
    "\n",
    "- undersampling\n",
    "- no scaler\n",
    "- max_depth: 3\n",
    "\n",
    "**Test ROC AUC Score: 0.6760804465226729**"
   ]
  },
  {
   "cell_type": "markdown",
   "metadata": {},
   "source": [
    "#### Results\n"
   ]
  },
  {
   "cell_type": "markdown",
   "metadata": {},
   "source": [
    "**Test**\n",
    "\n",
    "Test ROC AUC Score: 0.6760804465226729\n",
    "\n",
    "[[17022 14946]\n",
    "\n",
    "[  381  1510]]\n",
    "\n",
    "              precision    recall  f1-score   support\n",
    "\n",
    "         0.0       0.98      0.53      0.69     31968\n",
    "         1.0       0.09      0.80      0.16      1891\n",
    "\n",
    "    accuracy                           0.55     33859\n",
    "    macro avg      0.53      0.67      0.43     33859\n",
    "    weighted avg   0.93      0.55      0.66     33859\n"
   ]
  },
  {
   "cell_type": "markdown",
   "metadata": {},
   "source": [
    "**Train**\n",
    "\n",
    "Train ROC AUC Score: 0.7597494680780448\n",
    "\n",
    "\n",
    "[[42932 25598]\n",
    "\n",
    "[14446 76399]]\n",
    "\n",
    "              precision    recall  f1-score   support\n",
    "\n",
    "         0.0       0.75      0.63      0.68     68530\n",
    "         1.0       0.75      0.84      0.79     90845\n",
    "\n",
    "    accuracy                           0.75    159375\n",
    "    macro avg      0.75      0.73      0.74    159375\n",
    "    weighted avg   0.75      0.75      0.74    159375\n"
   ]
  },
  {
   "cell_type": "markdown",
   "metadata": {},
   "source": []
  },
  {
   "cell_type": "markdown",
   "metadata": {},
   "source": [
    "## Try 2\n",
    "- undersampling\n",
    "- max_depth = 10\n",
    "- no scaler\n",
    "\n",
    "**Test ROC AUC Score: 0.7508658182243587**\n"
   ]
  },
  {
   "cell_type": "markdown",
   "metadata": {},
   "source": []
  },
  {
   "cell_type": "markdown",
   "metadata": {},
   "source": [
    "#### Results"
   ]
  },
  {
   "cell_type": "markdown",
   "metadata": {},
   "source": [
    "**Test**\n",
    "\n",
    "Test ROC AUC Score: 0.7508658182243587\n",
    "\n",
    "[[20436 11532]\n",
    "\n",
    "[  517  1374]]\n",
    "\n",
    "              precision    recall  f1-score   support\n",
    "\n",
    "         0.0       0.98      0.64      0.77     31968\n",
    "         1.0       0.11      0.73      0.19      1891\n",
    "\n",
    "    accuracy                           0.64     33859\n",
    "    macro avg      0.54      0.68      0.48     33859\n",
    "    weighted avg   0.93      0.64      0.74     33859"
   ]
  },
  {
   "cell_type": "markdown",
   "metadata": {},
   "source": [
    "**Train**\n",
    "\n",
    "Train ROC AUC Score: 0.9046406201926132\n",
    "\n",
    "[[49740 18790]\n",
    "\n",
    "[ 9082 81763]]\n",
    "              \n",
    "              precision    recall  f1-score   support\n",
    "\n",
    "         0.0       0.85      0.73      0.78     68530\n",
    "         1.0       0.81      0.90      0.85     90845\n",
    "\n",
    "    accuracy                           0.83    159375\n",
    "    macro avg      0.83      0.81      0.82    159375\n",
    "    weighted avg   0.83      0.83      0.82    159375\n"
   ]
  },
  {
   "cell_type": "markdown",
   "metadata": {},
   "source": [
    "## Try 3\n",
    "\n",
    "- undersampling\n",
    "- max_depth = 7\n",
    "- no scaler\n",
    "\n",
    "**Test ROC AUC Score: 0.7576324423974478**"
   ]
  },
  {
   "cell_type": "markdown",
   "metadata": {},
   "source": [
    "#### Results\n"
   ]
  },
  {
   "cell_type": "markdown",
   "metadata": {
    "vscode": {
     "languageId": "plaintext"
    }
   },
   "source": [
    "**Test**\n",
    "\n",
    "Test ROC AUC Score: 0.7576324423974478\n",
    "\n",
    "[[19137 12831]\n",
    " [  427  1464]]\n",
    "              precision    recall  f1-score   support\n",
    "\n",
    "         0.0       0.98      0.60      0.74     31968\n",
    "         1.0       0.10      0.77      0.18      1891\n",
    "\n",
    "    accuracy                           0.61     33859\n",
    "   macro avg       0.54      0.69      0.46     33859\n",
    "weighted avg       0.93      0.61      0.71     33859\n"
   ]
  },
  {
   "cell_type": "markdown",
   "metadata": {
    "vscode": {
     "languageId": "plaintext"
    }
   },
   "source": [
    "**Train**\n",
    "\n",
    "Train ROC AUC Score: 0.8583759731991472\n",
    "\n",
    "\n",
    "[[46790 21740]\n",
    " [12381 78464]]\n",
    "              precision    recall  f1-score   support\n",
    "\n",
    "         0.0       0.79      0.68      0.73     68530\n",
    "         1.0       0.78      0.86      0.82     90845\n",
    "\n",
    "    accuracy                           0.79    159375\n",
    "   macro avg       0.79      0.77      0.78    159375\n",
    "weighted avg       0.79      0.79      0.78    159375\n"
   ]
  },
  {
   "cell_type": "markdown",
   "metadata": {},
   "source": [
    "## Try 4\n",
    "\n",
    "- **oversampling**\n",
    "- max_depth = 7\n",
    "- no scaler\n",
    "\n",
    "**Test ROC AUC Score: 0.8372368600753054**"
   ]
  },
  {
   "cell_type": "markdown",
   "metadata": {},
   "source": [
    "#### Results"
   ]
  },
  {
   "cell_type": "markdown",
   "metadata": {},
   "source": [
    "**Test**\n",
    "\n",
    "**Test ROC AUC Score: 0.8372368600753054**\n",
    "\n",
    "[[25196  6772]\n",
    " [  445  1446]]\n",
    "              precision    recall  f1-score   support\n",
    "\n",
    "         0.0       0.98      0.79      0.87     31968\n",
    "         1.0       0.18      0.76      0.29      1891\n",
    "\n",
    "    accuracy                           0.79     33859\n",
    "   macro avg       0.58      0.78      0.58     33859\n",
    "weighted avg       0.94      0.79      0.84     33859\n"
   ]
  },
  {
   "cell_type": "markdown",
   "metadata": {},
   "source": [
    "**Train**\n",
    "\n",
    "Train ROC AUC Score: 0.8585687765649176\n",
    "\n",
    "\n",
    "[[75928 19972]\n",
    " [21741 74159]]\n",
    "              precision    recall  f1-score   support\n",
    "\n",
    "         0.0       0.78      0.79      0.78     95900\n",
    "         1.0       0.79      0.77      0.78     95900\n",
    "\n",
    "    accuracy                           0.78    191800\n",
    "   macro avg       0.78      0.78      0.78    191800\n",
    "weighted avg       0.78      0.78      0.78    191800\n"
   ]
  },
  {
   "cell_type": "markdown",
   "metadata": {},
   "source": []
  }
 ],
 "metadata": {
  "language_info": {
   "name": "python"
  }
 },
 "nbformat": 4,
 "nbformat_minor": 2
}
