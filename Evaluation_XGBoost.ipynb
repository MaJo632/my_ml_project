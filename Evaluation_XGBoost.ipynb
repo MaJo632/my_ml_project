{
 "cells": [
  {
   "cell_type": "markdown",
   "metadata": {},
   "source": [
    "## Try 1\n",
    "\n",
    "- undersampling\n",
    "- **no randomized search**\n",
    "- extended data\n",
    "- scorer= make_scorer(fbeta_score, beta=2)\n",
    "\n",
    "**Test ROC AUC Score: 0.6214563651435677**"
   ]
  },
  {
   "cell_type": "markdown",
   "metadata": {},
   "source": [
    "#### Results"
   ]
  },
  {
   "cell_type": "markdown",
   "metadata": {},
   "source": [
    "**Test**\n",
    "\n",
    "Test ROC AUC Score: 0.6214563651435677\n",
    "\n",
    "[[16254 15714]\n",
    "\n",
    "[  662  1229]]\n",
    "              precision    recall  f1-score   support\n",
    "\n",
    "         0.0       0.96      0.51      0.67     31968\n",
    "         1.0       0.07      0.65      0.13      1891\n",
    "\n",
    "    accuracy                           0.52     33859\n",
    "    macro avg      0.52      0.58      0.40     33859\n",
    "    weighted avg   0.91      0.52      0.64     33859\n"
   ]
  },
  {
   "cell_type": "markdown",
   "metadata": {},
   "source": [
    "**Train**\n",
    "\n",
    "Train ROC AUC Score: 0.792183904741125\n",
    "\n",
    "[[39849 28681]\n",
    "\n",
    " [14215 76630]]\n",
    "\n",
    "\n",
    "              precision    recall  f1-score   support\n",
    "\n",
    "         0.0       0.74      0.58      0.65     68530\n",
    "         1.0       0.73      0.84      0.78     90845\n",
    "\n",
    "    accuracy                           0.73    159375\n",
    "    macro avg      0.73      0.71      0.72    159375\n",
    "    weighted avg   0.73      0.73      0.72    159375\n"
   ]
  },
  {
   "cell_type": "markdown",
   "metadata": {},
   "source": []
  }
 ],
 "metadata": {
  "language_info": {
   "name": "python"
  }
 },
 "nbformat": 4,
 "nbformat_minor": 2
}
