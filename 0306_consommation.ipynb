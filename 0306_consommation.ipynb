{
 "cells": [
  {
   "cell_type": "markdown",
   "metadata": {},
   "source": [
    "### Invoice data\n",
    "\n",
    " - Client_id: Unique id for the client\n",
    " - Invoice_date: Date of the invoice\n",
    " - Tarif_type: Type of tax\n",
    " - Counter_number:\n",
    " - Counter_statue: takes up to 5 values such as working fine, not working, on hold statue, ect\n",
    " - Counter_code:\n",
    " - Reading_remarque: notes that the STEG agent takes during his visit to the client (e.g: If the counter shows something wrong, the agent gives a bad score)\n",
    " - Counter_coefficient: An additional coefficient to be added when standard consumption is exceeded\n",
    " - Consommation_level_1: Consumption_level_1\n",
    " - Consommation_level_2: Consumption_level_2\n",
    " - Consommation_level_3: Consumption_level_3\n",
    " - Consommation_level_4: Consumption_level_4\n",
    " - Old_index: Old index\n",
    " - New_index: New index\n",
    " - Months_number: Month number\n",
    " - Counter_type: Type of counter"
   ]
  },
  {
   "cell_type": "markdown",
   "metadata": {},
   "source": [
    "In Tunisia, the Société Tunisienne de l'Électricité et du Gaz (STEG) calculates electricity bills using a tiered tariff system, where the cost per kilowatt-hour (kWh) increases as consumption rises. This progressive structure is designed to encourage energy conservation by charging higher rates for higher usage.\n",
    "\n",
    " - Low-Voltage (LV) Tariff Categories:\n",
    "\n",
    "STEG's LV customers are divided into two main categories based on their contracted power and monthly consumption:\n",
    "\n",
    " - Economic Category:\n",
    "\n",
    "Applicable to: Customers with a contracted power supply of 1 or 2 kilovolt-amperes (kVA) and monthly consumption up to 200 kWh.\n",
    " - Billing Structure: Consumption is billed in progressive tranches:\n",
    "    - 1–50 kWh\n",
    "    - 51–100 kWh\n",
    "    - 101–200 kWh\n",
    "\n",
    " - Normal Category:\n",
    "\n",
    "Applicable to: Customers with a contracted power supply greater than 2 kVA or those with consumption exceeding 200 kWh per month.\n",
    "Billing Structure: Consumption is billed in progressive tranches:\n",
    "    \n",
    "   - 1–200 kWh\n",
    "   - 201–300 kWh\n",
    "   - 301–500 kWh\n",
    "   - Above 500 kWh\n",
    "\n",
    " - Energy Pricing (as per available data):\n",
    "\n",
    " - Economic Category:\n",
    "\n",
    " - Residential:\n",
    "   - 1–50 kWh: 0.022 USD/kWh\n",
    "   - 51–100 kWh: 0.035 USD/kWh\n",
    "   - 101–200 kWh: 0.059 USD/kWh\n",
    " - Non-Residential:\n",
    "   - 1–50 kWh: 0.0322 USD/kWh\n",
    "   - 51–100 kWh: 0.035 USD/kWh\n",
    "   - 101–200 kWh: 0.059 USD/kWh\n",
    " - Normal Category:\n",
    "\n",
    "   - Residential:\n",
    "      - 1–200 kWh: 0.059 USD/kWh\n",
    "      - 201–300 kWh: 0.073 USD/kWh\n",
    "      - 301–500 kWh: 0.114 USD/kWh\n",
    "      - Above 500 kWh: 0.139 USD/kWh\n",
    "   - Non-Residential:\n",
    "      - 1–200 kWh: 0.065 USD/kWh\n",
    "      - 201–300 kWh: 0.081 USD/kWh\n",
    "      - 301–500 kWh: 0.117 USD/kWh\n",
    "      - Above 500 kWh: 0.131 USD/kWh\n",
    "Note: These rates are based on data available up to 2021. For the most current tariff information, please consult STEG's official resources.\n",
    "\n",
    "Example Calculation:\n",
    "\n",
    "For a residential customer in the Normal Category consuming 350 kWh in a month:\n",
    "\n",
    "First 200 kWh: 200 kWh × 0.059 USD/kWh = 11.80 USD\n",
    "Next 100 kWh: 100 kWh × 0.073 USD/kWh = 7.30 USD\n",
    "Remaining 50 kWh: 50 kWh × 0.114 USD/kWh = 5.70 USD\n",
    "Total Energy Charge: 11.80 + 7.30 + 5.70 = 24.80 USD\n",
    "\n",
    "This tiered approach ensures that as consumption increases, the cost per unit also rises, promoting efficient energy use.\n",
    "\n",
    "For the most accurate and up-to-date information on tariff structures and rates, it's advisable to refer to STEG's official communications or contact their customer service directly."
   ]
  },
  {
   "cell_type": "code",
   "execution_count": 3,
   "metadata": {},
   "outputs": [],
   "source": [
    "import pandas as pd\n",
    "import matplotlib.pyplot as plt\n",
    "#import lightgbm\n",
    "#from lightgbm import LGBMClassifier\n",
    "\n",
    "import warnings"
   ]
  },
  {
   "cell_type": "code",
   "execution_count": 4,
   "metadata": {},
   "outputs": [],
   "source": [
    "invoice_train = pd.read_csv(f'data/invoice_train.csv', low_memory=False)"
   ]
  },
  {
   "cell_type": "code",
   "execution_count": 5,
   "metadata": {},
   "outputs": [
    {
     "data": {
      "text/html": [
       "<div>\n",
       "<style scoped>\n",
       "    .dataframe tbody tr th:only-of-type {\n",
       "        vertical-align: middle;\n",
       "    }\n",
       "\n",
       "    .dataframe tbody tr th {\n",
       "        vertical-align: top;\n",
       "    }\n",
       "\n",
       "    .dataframe thead th {\n",
       "        text-align: right;\n",
       "    }\n",
       "</style>\n",
       "<table border=\"1\" class=\"dataframe\">\n",
       "  <thead>\n",
       "    <tr style=\"text-align: right;\">\n",
       "      <th></th>\n",
       "      <th>client_id</th>\n",
       "      <th>invoice_date</th>\n",
       "      <th>tarif_type</th>\n",
       "      <th>counter_number</th>\n",
       "      <th>counter_statue</th>\n",
       "      <th>counter_code</th>\n",
       "      <th>reading_remarque</th>\n",
       "      <th>counter_coefficient</th>\n",
       "      <th>consommation_level_1</th>\n",
       "      <th>consommation_level_2</th>\n",
       "      <th>consommation_level_3</th>\n",
       "      <th>consommation_level_4</th>\n",
       "      <th>old_index</th>\n",
       "      <th>new_index</th>\n",
       "      <th>months_number</th>\n",
       "      <th>counter_type</th>\n",
       "    </tr>\n",
       "  </thead>\n",
       "  <tbody>\n",
       "    <tr>\n",
       "      <th>0</th>\n",
       "      <td>train_Client_0</td>\n",
       "      <td>2014-03-24</td>\n",
       "      <td>11</td>\n",
       "      <td>1335667</td>\n",
       "      <td>0</td>\n",
       "      <td>203</td>\n",
       "      <td>8</td>\n",
       "      <td>1</td>\n",
       "      <td>82</td>\n",
       "      <td>0</td>\n",
       "      <td>0</td>\n",
       "      <td>0</td>\n",
       "      <td>14302</td>\n",
       "      <td>14384</td>\n",
       "      <td>4</td>\n",
       "      <td>ELEC</td>\n",
       "    </tr>\n",
       "    <tr>\n",
       "      <th>1</th>\n",
       "      <td>train_Client_0</td>\n",
       "      <td>2013-03-29</td>\n",
       "      <td>11</td>\n",
       "      <td>1335667</td>\n",
       "      <td>0</td>\n",
       "      <td>203</td>\n",
       "      <td>6</td>\n",
       "      <td>1</td>\n",
       "      <td>1200</td>\n",
       "      <td>184</td>\n",
       "      <td>0</td>\n",
       "      <td>0</td>\n",
       "      <td>12294</td>\n",
       "      <td>13678</td>\n",
       "      <td>4</td>\n",
       "      <td>ELEC</td>\n",
       "    </tr>\n",
       "    <tr>\n",
       "      <th>2</th>\n",
       "      <td>train_Client_0</td>\n",
       "      <td>2015-03-23</td>\n",
       "      <td>11</td>\n",
       "      <td>1335667</td>\n",
       "      <td>0</td>\n",
       "      <td>203</td>\n",
       "      <td>8</td>\n",
       "      <td>1</td>\n",
       "      <td>123</td>\n",
       "      <td>0</td>\n",
       "      <td>0</td>\n",
       "      <td>0</td>\n",
       "      <td>14624</td>\n",
       "      <td>14747</td>\n",
       "      <td>4</td>\n",
       "      <td>ELEC</td>\n",
       "    </tr>\n",
       "    <tr>\n",
       "      <th>3</th>\n",
       "      <td>train_Client_0</td>\n",
       "      <td>2015-07-13</td>\n",
       "      <td>11</td>\n",
       "      <td>1335667</td>\n",
       "      <td>0</td>\n",
       "      <td>207</td>\n",
       "      <td>8</td>\n",
       "      <td>1</td>\n",
       "      <td>102</td>\n",
       "      <td>0</td>\n",
       "      <td>0</td>\n",
       "      <td>0</td>\n",
       "      <td>14747</td>\n",
       "      <td>14849</td>\n",
       "      <td>4</td>\n",
       "      <td>ELEC</td>\n",
       "    </tr>\n",
       "    <tr>\n",
       "      <th>4</th>\n",
       "      <td>train_Client_0</td>\n",
       "      <td>2016-11-17</td>\n",
       "      <td>11</td>\n",
       "      <td>1335667</td>\n",
       "      <td>0</td>\n",
       "      <td>207</td>\n",
       "      <td>9</td>\n",
       "      <td>1</td>\n",
       "      <td>572</td>\n",
       "      <td>0</td>\n",
       "      <td>0</td>\n",
       "      <td>0</td>\n",
       "      <td>15066</td>\n",
       "      <td>15638</td>\n",
       "      <td>12</td>\n",
       "      <td>ELEC</td>\n",
       "    </tr>\n",
       "  </tbody>\n",
       "</table>\n",
       "</div>"
      ],
      "text/plain": [
       "        client_id invoice_date  tarif_type  counter_number counter_statue   \n",
       "0  train_Client_0   2014-03-24          11         1335667              0  \\\n",
       "1  train_Client_0   2013-03-29          11         1335667              0   \n",
       "2  train_Client_0   2015-03-23          11         1335667              0   \n",
       "3  train_Client_0   2015-07-13          11         1335667              0   \n",
       "4  train_Client_0   2016-11-17          11         1335667              0   \n",
       "\n",
       "   counter_code  reading_remarque  counter_coefficient  consommation_level_1   \n",
       "0           203                 8                    1                    82  \\\n",
       "1           203                 6                    1                  1200   \n",
       "2           203                 8                    1                   123   \n",
       "3           207                 8                    1                   102   \n",
       "4           207                 9                    1                   572   \n",
       "\n",
       "   consommation_level_2  consommation_level_3  consommation_level_4   \n",
       "0                     0                     0                     0  \\\n",
       "1                   184                     0                     0   \n",
       "2                     0                     0                     0   \n",
       "3                     0                     0                     0   \n",
       "4                     0                     0                     0   \n",
       "\n",
       "   old_index  new_index  months_number counter_type  \n",
       "0      14302      14384              4         ELEC  \n",
       "1      12294      13678              4         ELEC  \n",
       "2      14624      14747              4         ELEC  \n",
       "3      14747      14849              4         ELEC  \n",
       "4      15066      15638             12         ELEC  "
      ]
     },
     "execution_count": 5,
     "metadata": {},
     "output_type": "execute_result"
    }
   ],
   "source": [
    "invoice_train.head()"
   ]
  },
  {
   "cell_type": "code",
   "execution_count": 12,
   "metadata": {},
   "outputs": [
    {
     "data": {
      "text/plain": [
       "<Axes: >"
      ]
     },
     "execution_count": 12,
     "metadata": {},
     "output_type": "execute_result"
    },
    {
     "data": {
      "image/png": "[encoded data removed]",
      "text/plain": [
       "<Figure size 640x480 with 1 Axes>"
      ]
     },
     "metadata": {},
     "output_type": "display_data"
    }
   ],
   "source": [
    "invoice_train.boxplot(column=['consommation_level_1','consommation_level_2','consommation_level_3','consommation_level_4'])"
   ]
  },
  {
   "cell_type": "code",
   "execution_count": 13,
   "metadata": {},
   "outputs": [
    {
     "data": {
      "text/plain": [
       "<Axes: >"
      ]
     },
     "execution_count": 13,
     "metadata": {},
     "output_type": "execute_result"
    },
    {
     "data": {
      "image/png": "[encoded data removed]",
      "text/plain": [
       "<Figure size 640x480 with 1 Axes>"
      ]
     },
     "metadata": {},
     "output_type": "display_data"
    }
   ],
   "source": [
    "invoice_train.boxplot(column=['consommation_level_1','consommation_level_2','consommation_level_3','consommation_level_4'], showfliers=False)"
   ]
  },
  {
   "cell_type": "code",
   "execution_count": 14,
   "metadata": {},
   "outputs": [],
   "source": [
    "is_within_range = invoice_train['consommation_level_1'].between(0, 1200)"
   ]
  },
  {
   "cell_type": "code",
   "execution_count": 16,
   "metadata": {},
   "outputs": [
    {
     "data": {
      "text/plain": [
       "4476749"
      ]
     },
     "execution_count": 16,
     "metadata": {},
     "output_type": "execute_result"
    }
   ],
   "source": [
    "is_within_range.count()"
   ]
  },
  {
   "cell_type": "code",
   "execution_count": 18,
   "metadata": {},
   "outputs": [],
   "source": [
    "has_missing_values = invoice_train[['consommation_level_2', 'consommation_level_3']].isnull().any(axis=1)\n"
   ]
  },
  {
   "cell_type": "code",
   "execution_count": 23,
   "metadata": {},
   "outputs": [
    {
     "data": {
      "text/plain": [
       "Series([], Name: count, dtype: int64)"
      ]
     },
     "execution_count": 23,
     "metadata": {},
     "output_type": "execute_result"
    }
   ],
   "source": [
    "filtered_df = invoice_train[is_within_range & has_missing_values]\n",
    "\n",
    "filtered_df.value_counts()"
   ]
  },
  {
   "cell_type": "code",
   "execution_count": 27,
   "metadata": {},
   "outputs": [
    {
     "name": "stdout",
     "output_type": "stream",
     "text": [
      "467553\n"
     ]
    }
   ],
   "source": [
    "zero_count = (invoice_train['consommation_level_1'] == 0).sum()\n",
    "print (zero_count)"
   ]
  },
  {
   "cell_type": "code",
   "execution_count": 33,
   "metadata": {},
   "outputs": [
    {
     "name": "stdout",
     "output_type": "stream",
     "text": [
      "4476749\n"
     ]
    }
   ],
   "source": [
    "total_rows = len(invoice_train)\n",
    "print(total_rows)"
   ]
  },
  {
   "cell_type": "code",
   "execution_count": 35,
   "metadata": {},
   "outputs": [
    {
     "data": {
      "text/plain": [
       "10.444029808238078"
      ]
     },
     "execution_count": 35,
     "metadata": {},
     "output_type": "execute_result"
    }
   ],
   "source": [
    "percentage = (zero_count/total_rows)*100\n",
    "percentage"
   ]
  }
 ],
 "metadata": {
  "kernelspec": {
   "display_name": ".venv",
   "language": "python",
   "name": "python3"
  },
  "language_info": {
   "codemirror_mode": {
    "name": "ipython",
    "version": 3
   },
   "file_extension": ".py",
   "mimetype": "text/x-python",
   "name": "python",
   "nbconvert_exporter": "python",
   "pygments_lexer": "ipython3",
   "version": "3.11.3"
  }
 },
 "nbformat": 4,
 "nbformat_minor": 2
}
