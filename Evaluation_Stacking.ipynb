{
 "cells": [
  {
   "cell_type": "markdown",
   "metadata": {},
   "source": [
    "## Try 1\n",
    "\n",
    "- Oversampling\n",
    "- Param grid (see below)\n",
    "- scoring = make_scorer(fbeta_score, beta=2)\n",
    "- cv = 5 \n",
    "- used 'consommation_per_month'\n",
    "\n",
    "**Test ROC AUC Score: 0.5217537024317412**\n"
   ]
  },
  {
   "cell_type": "markdown",
   "metadata": {},
   "source": [
    "#### Result\n"
   ]
  },
  {
   "cell_type": "markdown",
   "metadata": {},
   "source": [
    "**Best Model/Best Params**\n",
    "\n",
    "**Best score:**\n",
    "\n",
    "0.99\n",
    "\n",
    "**Best parameters:**\n",
    "\n",
    "{'st__knn__weights': 'distance', 'st__knn__p': 1, 'st__knn__n_neighbors': 42, 'st__knn__algorithm': 'brute', 'st__dt__min_samples_split': 5, 'st__dt__max_leaf_nodes': 10, 'st__dt__max_features': 0.6, 'st__dt__max_depth': 15, 'st__class__penalty': 'l2', 'st__class__max_iter': 1000, 'st__class__loss': 'log_loss', 'st__class__learning_rate': 'constant', 'st__class__eta0': 0.01, 'st__class__alpha': 0.001}"
   ]
  },
  {
   "cell_type": "markdown",
   "metadata": {},
   "source": [
    "**Test**"
   ]
  },
  {
   "cell_type": "markdown",
   "metadata": {},
   "source": [
    "Test ROC AUC Score: 0.5217537024317412\n"
   ]
  },
  {
   "cell_type": "markdown",
   "metadata": {},
   "source": [
    "||Negative_pred|Positive_pred|\n",
    "|---|---|---|\n",
    "|Negative|1018934|   11575|\n",
    "|Positive|87140|    1073|"
   ]
  },
  {
   "cell_type": "markdown",
   "metadata": {},
   "source": [
    "\n",
    "\n",
    " \n",
    "              precision    recall  f1-score   support\n",
    "\n",
    "         0.0       0.92      0.99      0.95   1030509\n",
    "         1.0       0.08      0.01      0.02     88213\n",
    "\n",
    "    accuracy       ...       ...       0.91   1118722\n",
    "    macro avg      0.50      0.50      0.49   1118722\n",
    "    weighted avg   0.86      0.91      0.88   1118722\n"
   ]
  },
  {
   "cell_type": "markdown",
   "metadata": {},
   "source": [
    "**Train**"
   ]
  },
  {
   "cell_type": "markdown",
   "metadata": {},
   "source": [
    "Train ROC AUC Score: 0.999824613441643"
   ]
  },
  {
   "cell_type": "markdown",
   "metadata": {},
   "source": [
    "||Negative_pred|Positive_pred|\n",
    "|---|---|---|\n",
    "|negative|126272|    116|\n",
    "|positive|709| 125679|\n",
    " "
   ]
  },
  {
   "cell_type": "markdown",
   "metadata": {},
   "source": [
    "\n",
    "              precision    recall  f1-score   support\n",
    "\n",
    "         0.0       0.99      1.00      1.00    126388\n",
    "         1.0       1.00      0.99      1.00    126388\n",
    "\n",
    "    accuracy                           1.00    252776\n",
    "    macro avg      1.00      1.00      1.00    252776\n",
    "    weighted avg   1.00      1.00      1.00    252776"
   ]
  },
  {
   "cell_type": "markdown",
   "metadata": {},
   "source": [
    "#### Details"
   ]
  },
  {
   "cell_type": "code",
   "execution_count": null,
   "metadata": {},
   "outputs": [],
   "source": [
    "param_st = {'st__dt__max_features': ['auto', 'sqrt', None] + list(np.arange(0.5, 1, 0.1)),\n",
    "    'st__dt__max_leaf_nodes': [None] + list(np.arange(10, 51).astype(int)),\n",
    "    'st__dt__min_samples_split': [2, 5, 10],\n",
    "    'st__dt__max_depth': [None] + list(np.arange(3, 21).astype(int)),\n",
    "    'st__knn__n_neighbors' : np.arange(2,50), #this actually defines the model you use\n",
    "    'st__knn__weights' : ['uniform', 'distance'],\n",
    "    'st__knn__p' : [1, 2, 3],\n",
    "    'st__knn__algorithm': ['ball_tree', 'kd_tree', 'brute'],\n",
    "    'st__class__penalty':('l1','l2'),\n",
    "    'st__class__alpha': [0.001, 0.01, 0.1, 1, 10],\n",
    "    'st__class__learning_rate': ['optimal', 'constant', 'invscaling'],\n",
    "    'st__class__loss': ['log_loss', 'hinge', 'huber'],\n",
    "    'st__class__max_iter' : [1000, 500],\n",
    "    'st__class__eta0': [0.001, 0.01]\n",
    "    }\n"
   ]
  },
  {
   "cell_type": "markdown",
   "metadata": {},
   "source": [
    "## Try 2\n",
    "\n",
    "- Changes: Undersampling (instead of oversampling)\n",
    "- Feature Engineering: consommation_sum instead of consommation_per_month\n",
    "- Imputing consommoation_sum = 0 with median value\n",
    "\n",
    "\n",
    "**Test ROC AUC Score: 0.5090593874801974**\n"
   ]
  },
  {
   "cell_type": "markdown",
   "metadata": {},
   "source": [
    "### Result"
   ]
  },
  {
   "cell_type": "markdown",
   "metadata": {},
   "source": [
    "Best score:\n",
    "\n",
    "0.22\n",
    "\n",
    "Best parameters:\n",
    "\n",
    "{'st__knn__weights': 'uniform', 'st__knn__p': 2, 'st__knn__n_neighbors': 32, 'st__knn__algorithm': 'ball_tree', 'st__dt__min_samples_split': 2, 'st__dt__max_leaf_nodes': 48, 'st__dt__max_features': 'sqrt', 'st__dt__max_depth': 9, 'st__class__penalty': 'l1', 'st__class__max_iter': 500, 'st__class__loss': 'log_loss', 'st__class__learning_rate': 'optimal', 'st__class__eta0': 0.001, 'st__class__alpha': 0.01}"
   ]
  },
  {
   "cell_type": "markdown",
   "metadata": {},
   "source": [
    "**Test**\n",
    "\n",
    "Test ROC AUC Score: 0.5090593874801974\n",
    "\n"
   ]
  },
  {
   "cell_type": "markdown",
   "metadata": {},
   "source": [
    "||Negative_pred|Positive_pred|\n",
    "|---|---|---|\n",
    "|negative|969891 | 60618|\n",
    "|positive| 82101  | 6112|"
   ]
  },
  {
   "cell_type": "markdown",
   "metadata": {},
   "source": [
    "                   precision    recall  f1-score   support\n",
    "\n",
    "         0.0       0.92         0.94      0.93     1030509\n",
    "         1.0       0.09         0.07      0.08     88213\n",
    "\n",
    "    accuracy                              0.87     1118722\n",
    "    macro avg       0.51        0.51      0.51     1118722\n",
    "    weighted avg    0.86        0.87      0.86     1118722"
   ]
  },
  {
   "cell_type": "markdown",
   "metadata": {},
   "source": [
    "**Train**\n",
    "\n",
    "Train ROC AUC Score: 0.7658545721235135\n"
   ]
  },
  {
   "cell_type": "markdown",
   "metadata": {},
   "source": [
    "||Negative_pred|Positive_pred|\n",
    "|---|---|---|\n",
    "|negative| 88016 |38372|\n",
    "|positive|2292 | 5260|"
   ]
  },
  {
   "cell_type": "markdown",
   "metadata": {},
   "source": [
    "\n",
    "              precision    recall  f1-score   support\n",
    "\n",
    "         0.0       0.97      0.70      0.81    126388\n",
    "         1.0       0.12      0.70      0.21      7552\n",
    "\n",
    "    accuracy                           0.70    133940\n",
    "    macro avg      0.55      0.70      0.51    133940\n",
    "    weighted avg   0.93      0.70      0.78    133940"
   ]
  },
  {
   "cell_type": "markdown",
   "metadata": {},
   "source": [
    "----"
   ]
  },
  {
   "cell_type": "markdown",
   "metadata": {},
   "source": []
  },
  {
   "cell_type": "markdown",
   "metadata": {},
   "source": [
    "## Try 3\n",
    "\n",
    "- extended dataset\n",
    "- undersampling (no pipeline)\n",
    "- scorer: own scorer\n",
    "\n",
    "**Test ROC AUC Score: 0.6169694532581234**"
   ]
  },
  {
   "cell_type": "markdown",
   "metadata": {},
   "source": [
    "#### Results\n"
   ]
  },
  {
   "cell_type": "markdown",
   "metadata": {},
   "source": [
    "**Test**"
   ]
  },
  {
   "cell_type": "markdown",
   "metadata": {},
   "source": [
    "Test ROC AUC Score: 0.6169694532581234"
   ]
  },
  {
   "cell_type": "markdown",
   "metadata": {},
   "source": [
    "[[12887 19081]\n",
    "\n",
    " [  434  1457]]"
   ]
  },
  {
   "cell_type": "markdown",
   "metadata": {},
   "source": [
    "\n",
    "              precision    recall  f1-score   support\n",
    "\n",
    "         0.0       0.97      0.40      0.57     31968\n",
    "         1.0       0.07      0.77      0.13      1891\n",
    "\n",
    "    accuracy                           0.42     33859\n",
    "    macro avg      0.52      0.59      0.35     33859\n",
    "    weighted avg   0.92      0.42      0.54     33859"
   ]
  },
  {
   "cell_type": "markdown",
   "metadata": {},
   "source": []
  },
  {
   "cell_type": "markdown",
   "metadata": {},
   "source": [
    "**Train**\n"
   ]
  },
  {
   "cell_type": "markdown",
   "metadata": {},
   "source": [
    "Train ROC AUC Score: 0.6682151081180718"
   ]
  },
  {
   "cell_type": "markdown",
   "metadata": {},
   "source": [
    "[[39710 56190]\n",
    "\n",
    "[ 1092  4582]]"
   ]
  },
  {
   "cell_type": "markdown",
   "metadata": {},
   "source": [
    "\n",
    "              precision    recall  f1-score   support\n",
    "\n",
    "         0.0       0.97      0.41      0.58     95900\n",
    "         1.0       0.08      0.81      0.14      5674\n",
    "\n",
    "    accuracy                           0.44    101574\n",
    "    macro avg      0.52      0.61      0.36    101574\n",
    "    weighted avg   0.92      0.44      0.56    101574"
   ]
  },
  {
   "cell_type": "markdown",
   "metadata": {},
   "source": []
  },
  {
   "cell_type": "markdown",
   "metadata": {},
   "source": [
    "## Try 4\n",
    "\n",
    "- extended dataset\n",
    "- oversampling (no pipeline)\n",
    "- scorer = roc_auc\n",
    "\n",
    "**Test ROC AUC Score: 0.581422147954406**"
   ]
  },
  {
   "cell_type": "markdown",
   "metadata": {},
   "source": [
    "#### Results"
   ]
  },
  {
   "cell_type": "markdown",
   "metadata": {},
   "source": [
    "**Test**"
   ]
  },
  {
   "cell_type": "markdown",
   "metadata": {},
   "source": [
    "Test ROC AUC Score: 0.581422147954406\n",
    "\n",
    "[[30952  1016]\n",
    "\n",
    "[ 1817    74]]\n",
    "\n",
    "\n",
    "              precision    recall  f1-score   support\n",
    "\n",
    "         0.0       0.94      0.97      0.96     31968\n",
    "         1.0       0.07      0.04      0.05      1891\n",
    "\n",
    "    accuracy                           0.92     33859\n",
    "    macro avg      0.51      0.50      0.50     33859\n",
    "    weighted avg   0.90      0.92      0.91     33859"
   ]
  },
  {
   "cell_type": "markdown",
   "metadata": {},
   "source": [
    "**Train**"
   ]
  },
  {
   "cell_type": "markdown",
   "metadata": {},
   "source": [
    "Train ROC AUC Score: 0.9999152109807639\n",
    "\n",
    "[[95816    84]\n",
    "\n",
    "[  349 95551]]\n",
    "\n",
    "\n",
    "              precision    recall  f1-score   support\n",
    "\n",
    "         0.0       1.00      1.00      1.00     95900\n",
    "         1.0       1.00      1.00      1.00     95900\n",
    "\n",
    "    accuracy                           1.00    191800\n",
    "    macro avg      1.00      1.00      1.00    191800\n",
    "    weighted avg   1.00      1.00      1.00    191800"
   ]
  },
  {
   "cell_type": "markdown",
   "metadata": {},
   "source": []
  },
  {
   "cell_type": "markdown",
   "metadata": {},
   "source": [
    "## Try 5\n",
    "\n",
    "- extended dataset\n",
    "- undersampling (no Pipe)\n",
    "- scorere = roc_auc\n",
    "\n",
    "**Test ROC AUC Score: 0.6174881501676186**"
   ]
  },
  {
   "cell_type": "markdown",
   "metadata": {},
   "source": [
    "#### Results\n"
   ]
  },
  {
   "cell_type": "markdown",
   "metadata": {},
   "source": [
    "**Test**\n",
    "\n"
   ]
  },
  {
   "cell_type": "markdown",
   "metadata": {},
   "source": [
    "Test ROC AUC Score: 0.6174881501676186\n",
    "\n",
    "[[18572 13396]\n",
    "\n",
    " [  786  1105]]\n",
    "\n",
    "\n",
    "              precision    recall  f1-score   support\n",
    "\n",
    "         0.0       0.96      0.58      0.72     31968\n",
    "         1.0       0.08      0.58      0.13      1891\n",
    "\n",
    "    accuracy                           0.58     33859\n",
    "    macro avg      0.52      0.58      0.43     33859\n",
    "    weighted avg   0.91      0.58      0.69     33859"
   ]
  },
  {
   "cell_type": "markdown",
   "metadata": {},
   "source": []
  },
  {
   "cell_type": "markdown",
   "metadata": {},
   "source": [
    "**Train**"
   ]
  },
  {
   "cell_type": "markdown",
   "metadata": {},
   "source": [
    "Train ROC AUC Score: 0.9995624122068659\n",
    "\n",
    "[[68517    13]\n",
    "\n",
    " [   67 90778]]\n",
    "\n",
    "\n",
    "              precision    recall  f1-score   support\n",
    "\n",
    "         0.0       1.00      1.00      1.00     68530\n",
    "         1.0       1.00      1.00      1.00     90845\n",
    "\n",
    "    accuracy                           1.00    159375\n",
    "    macro avg      1.00      1.00      1.00    159375\n",
    "    weighted avg   1.00      1.00      1.00    159375"
   ]
  },
  {
   "cell_type": "markdown",
   "metadata": {},
   "source": []
  }
 ],
 "metadata": {
  "kernelspec": {
   "display_name": ".venv",
   "language": "python",
   "name": "python3"
  },
  "language_info": {
   "codemirror_mode": {
    "name": "ipython",
    "version": 3
   },
   "file_extension": ".py",
   "mimetype": "text/x-python",
   "name": "python",
   "nbconvert_exporter": "python",
   "pygments_lexer": "ipython3",
   "version": "3.11.3"
  }
 },
 "nbformat": 4,
 "nbformat_minor": 2
}
