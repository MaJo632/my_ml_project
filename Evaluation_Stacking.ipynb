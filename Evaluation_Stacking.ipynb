{
 "cells": [
  {
   "cell_type": "markdown",
   "metadata": {},
   "source": [
    "## Try 1\n",
    "\n",
    "- Oversampling\n",
    "- Param grid (see below)\n",
    "- scoring = make_scorer(fbeta_score, beta=2)\n",
    "- cv = 5 \n",
    "- used 'consommation_per_month'\n",
    "\n",
    "**Test ROC AUC Score: 0.5217537024317412**\n"
   ]
  },
  {
   "cell_type": "markdown",
   "metadata": {},
   "source": [
    "#### Result\n"
   ]
  },
  {
   "cell_type": "markdown",
   "metadata": {},
   "source": [
    "**Best Model/Best Params**\n",
    "\n",
    "**Best score:**\n",
    "\n",
    "0.99\n",
    "\n",
    "**Best parameters:**\n",
    "\n",
    "{'st__knn__weights': 'distance', 'st__knn__p': 1, 'st__knn__n_neighbors': 42, 'st__knn__algorithm': 'brute', 'st__dt__min_samples_split': 5, 'st__dt__max_leaf_nodes': 10, 'st__dt__max_features': 0.6, 'st__dt__max_depth': 15, 'st__class__penalty': 'l2', 'st__class__max_iter': 1000, 'st__class__loss': 'log_loss', 'st__class__learning_rate': 'constant', 'st__class__eta0': 0.01, 'st__class__alpha': 0.001}"
   ]
  },
  {
   "cell_type": "markdown",
   "metadata": {},
   "source": [
    "**Test**"
   ]
  },
  {
   "cell_type": "markdown",
   "metadata": {},
   "source": [
    "Test ROC AUC Score: 0.5217537024317412\n"
   ]
  },
  {
   "cell_type": "markdown",
   "metadata": {},
   "source": [
    "||Negative_pred|Positive_pred|\n",
    "|---|---|---|\n",
    "|Negative|1018934|   11575|\n",
    "|Positive|87140|    1073|"
   ]
  },
  {
   "cell_type": "markdown",
   "metadata": {},
   "source": [
    "\n",
    "\n",
    " \n",
    "              precision    recall  f1-score   support\n",
    "\n",
    "         0.0       0.92      0.99      0.95   1030509\n",
    "         1.0       0.08      0.01      0.02     88213\n",
    "\n",
    "    accuracy       ...       ...       0.91   1118722\n",
    "    macro avg      0.50      0.50      0.49   1118722\n",
    "    weighted avg   0.86      0.91      0.88   1118722\n"
   ]
  },
  {
   "cell_type": "markdown",
   "metadata": {},
   "source": [
    "**Train**"
   ]
  },
  {
   "cell_type": "markdown",
   "metadata": {},
   "source": [
    "Train ROC AUC Score: 0.999824613441643"
   ]
  },
  {
   "cell_type": "markdown",
   "metadata": {},
   "source": [
    "||Negative_pred|Positive_pred|\n",
    "|---|---|---|\n",
    "|negative|126272|    116|\n",
    "|positive|709| 125679|\n",
    " "
   ]
  },
  {
   "cell_type": "markdown",
   "metadata": {},
   "source": [
    "\n",
    "              precision    recall  f1-score   support\n",
    "\n",
    "         0.0       0.99      1.00      1.00    126388\n",
    "         1.0       1.00      0.99      1.00    126388\n",
    "\n",
    "    accuracy                           1.00    252776\n",
    "    macro avg      1.00      1.00      1.00    252776\n",
    "    weighted avg   1.00      1.00      1.00    252776"
   ]
  },
  {
   "cell_type": "markdown",
   "metadata": {},
   "source": [
    "#### Details"
   ]
  },
  {
   "cell_type": "code",
   "execution_count": null,
   "metadata": {},
   "outputs": [],
   "source": [
    "param_st = {'st__dt__max_features': ['auto', 'sqrt', None] + list(np.arange(0.5, 1, 0.1)),\n",
    "    'st__dt__max_leaf_nodes': [None] + list(np.arange(10, 51).astype(int)),\n",
    "    'st__dt__min_samples_split': [2, 5, 10],\n",
    "    'st__dt__max_depth': [None] + list(np.arange(3, 21).astype(int)),\n",
    "    'st__knn__n_neighbors' : np.arange(2,50), #this actually defines the model you use\n",
    "    'st__knn__weights' : ['uniform', 'distance'],\n",
    "    'st__knn__p' : [1, 2, 3],\n",
    "    'st__knn__algorithm': ['ball_tree', 'kd_tree', 'brute'],\n",
    "    'st__class__penalty':('l1','l2'),\n",
    "    'st__class__alpha': [0.001, 0.01, 0.1, 1, 10],\n",
    "    'st__class__learning_rate': ['optimal', 'constant', 'invscaling'],\n",
    "    'st__class__loss': ['log_loss', 'hinge', 'huber'],\n",
    "    'st__class__max_iter' : [1000, 500],\n",
    "    'st__class__eta0': [0.001, 0.01]\n",
    "    }\n"
   ]
  },
  {
   "cell_type": "markdown",
   "metadata": {},
   "source": [
    "## Try 2\n",
    "\n",
    "- Changes: Undersampling (instead of oversampling)\n",
    "- Feature Engineering: consommation_sum instead of consommation_per_month\n",
    "- Imputing consommoation_sum = 0 with median value\n"
   ]
  },
  {
   "cell_type": "markdown",
   "metadata": {},
   "source": [
    "### Result"
   ]
  },
  {
   "cell_type": "markdown",
   "metadata": {},
   "source": [
    "Best score:\n",
    "\n",
    "0.22\n",
    "\n",
    "Best parameters:\n",
    "\n",
    "{'st__knn__weights': 'uniform', 'st__knn__p': 2, 'st__knn__n_neighbors': 32, 'st__knn__algorithm': 'ball_tree', 'st__dt__min_samples_split': 2, 'st__dt__max_leaf_nodes': 48, 'st__dt__max_features': 'sqrt', 'st__dt__max_depth': 9, 'st__class__penalty': 'l1', 'st__class__max_iter': 500, 'st__class__loss': 'log_loss', 'st__class__learning_rate': 'optimal', 'st__class__eta0': 0.001, 'st__class__alpha': 0.01}"
   ]
  },
  {
   "cell_type": "markdown",
   "metadata": {},
   "source": [
    "**Test**\n",
    "\n",
    "Test ROC AUC Score: 0.5090593874801974\n",
    "\n"
   ]
  },
  {
   "cell_type": "markdown",
   "metadata": {},
   "source": [
    "||Negative_pred|Positive_pred|\n",
    "|---|---|---|\n",
    "|negative|969891 | 60618|\n",
    "|positive| 82101  | 6112|"
   ]
  },
  {
   "cell_type": "markdown",
   "metadata": {},
   "source": [
    "                   precision    recall  f1-score   support\n",
    "\n",
    "         0.0       0.92         0.94      0.93     1030509\n",
    "         1.0       0.09         0.07      0.08     88213\n",
    "\n",
    "    accuracy                              0.87     1118722\n",
    "    macro avg       0.51        0.51      0.51     1118722\n",
    "    weighted avg    0.86        0.87      0.86     1118722"
   ]
  },
  {
   "cell_type": "markdown",
   "metadata": {},
   "source": [
    "**Train**\n",
    "\n",
    "Train ROC AUC Score: 0.7658545721235135\n"
   ]
  },
  {
   "cell_type": "markdown",
   "metadata": {},
   "source": [
    "||Negative_pred|Positive_pred|\n",
    "|---|---|---|\n",
    "|negative| 88016 |38372|\n",
    "|positive|2292 | 5260|"
   ]
  },
  {
   "cell_type": "markdown",
   "metadata": {},
   "source": [
    "\n",
    "              precision    recall  f1-score   support\n",
    "\n",
    "         0.0       0.97      0.70      0.81    126388\n",
    "         1.0       0.12      0.70      0.21      7552\n",
    "\n",
    "    accuracy                           0.70    133940\n",
    "    macro avg      0.55      0.70      0.51    133940\n",
    "    weighted avg   0.93      0.70      0.78    133940"
   ]
  },
  {
   "cell_type": "markdown",
   "metadata": {},
   "source": [
    "----"
   ]
  },
  {
   "cell_type": "markdown",
   "metadata": {},
   "source": []
  }
 ],
 "metadata": {
  "kernelspec": {
   "display_name": "Python 3",
   "language": "python",
   "name": "python3"
  },
  "language_info": {
   "name": "python",
   "version": "3.11.3"
  }
 },
 "nbformat": 4,
 "nbformat_minor": 2
}
